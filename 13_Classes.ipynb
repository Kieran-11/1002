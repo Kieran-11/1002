{
  "nbformat": 4,
  "nbformat_minor": 0,
  "metadata": {
    "colab": {
      "provenance": [],
      "include_colab_link": true
    },
    "kernelspec": {
      "name": "python3",
      "display_name": "Python 3"
    },
    "language_info": {
      "name": "python"
    }
  },
  "cells": [
    {
      "cell_type": "markdown",
      "metadata": {
        "id": "view-in-github",
        "colab_type": "text"
      },
      "source": [
        "<a href=\"https://colab.research.google.com/github/Kieran-11/1002/blob/main/13_Classes.ipynb\" target=\"_parent\"><img src=\"https://colab.research.google.com/assets/colab-badge.svg\" alt=\"Open In Colab\"/></a>"
      ]
    },
    {
      "cell_type": "markdown",
      "source": [
        "## Assignment:  Classes\n",
        "### Due Sunday 28 April at 10pm"
      ],
      "metadata": {
        "id": "5Vy93BSp9Tum"
      }
    },
    {
      "cell_type": "markdown",
      "source": [
        "1.  Define a class called `Person` that has attributes `lastName`, `firstName`, `mother`, and `father`.  Both `mother` and `father` should have default value `unknown`.\n",
        "\n",
        "  Include a `__str__()` function that returns a string of the form '`firstName` `lastName`'.\n",
        "\n",
        "  Include a `__repr__()` function that returns a string that can be evaluated to recreate the `Person` object.\n",
        "\n"
      ],
      "metadata": {
        "id": "vcj5XQAI9Wsb"
      }
    },
    {
      "cell_type": "code",
      "source": [
        "class Person:\n",
        "  \"\"\"\n",
        "  creates a class that defines a first and last name\n",
        "  also has the option to take in a mother and father argument they default to unknown\n",
        "  \"\"\"\n",
        "  def __init__(self, lastName, firstName, mother =\"unknown\", father =\"unknown\"):\n",
        "    self.lastName = lastName\n",
        "    self.firstName = firstName\n",
        "    self.mother = mother\n",
        "    self.father = father\n",
        "\n",
        "  def __str__(self):\n",
        "    return f\"{self.firstName} {self.lastName}\"\n",
        "\n",
        "  def __repr__(self):\n",
        "    return f'Person(\"{self.lastName}\", \"{self.firstName}\", \"{self.mother}\", \"{self.father}\")'"
      ],
      "metadata": {
        "id": "mjHDwHv3EpVe"
      },
      "execution_count": 11,
      "outputs": []
    },
    {
      "cell_type": "markdown",
      "source": [
        "Create a person (i.e., a `Person` object) called `p` with unknown parents.  (You will need to give your person a first and last name.) Check the type of `p`.  Include all inputs and outputs."
      ],
      "metadata": {
        "id": "-ppMsEIVHINl"
      }
    },
    {
      "cell_type": "code",
      "source": [
        "p = Person(\"Perdue\", \"Kieran\")\n",
        "print(type(p))\n",
        "print(str(p))"
      ],
      "metadata": {
        "id": "5bwid_6gHIBH",
        "colab": {
          "base_uri": "https://localhost:8080/"
        },
        "outputId": "a4d6fb6f-7831-49bc-f1ae-b02f4c2d782e"
      },
      "execution_count": 17,
      "outputs": [
        {
          "output_type": "stream",
          "name": "stdout",
          "text": [
            "<class '__main__.Person'>\n",
            "Kieran Perdue\n"
          ]
        }
      ]
    },
    {
      "cell_type": "markdown",
      "source": [
        "Verify that your `__str__` and `__repr__` functions are doing what they are supposed to do.  Include all inputs and outputs."
      ],
      "metadata": {
        "id": "Z6zlUC3xRtal"
      }
    },
    {
      "cell_type": "code",
      "source": [
        "friend = Person(\"Lash\", \"Nora\")\n",
        "print(str(friend))\n",
        "print(repr(friend))"
      ],
      "metadata": {
        "id": "jZO0dBQYRs-K",
        "colab": {
          "base_uri": "https://localhost:8080/"
        },
        "outputId": "c276e468-f67a-4d0c-ef3a-247ffc638a87"
      },
      "execution_count": 18,
      "outputs": [
        {
          "output_type": "stream",
          "name": "stdout",
          "text": [
            "Nora Lash\n",
            "Person(\"Lash\", \"Nora\", \"unknown\", \"unknown\")\n"
          ]
        }
      ]
    },
    {
      "cell_type": "markdown",
      "source": [
        "Suppose the mother of `p` has been found and is named Taylor Swift.  Create a new person named Taylor Swift, and make her the mother of `p`:\n",
        "\n",
        "```\n",
        "> p.mother\n",
        "'Taylor Swift'\n",
        "```"
      ],
      "metadata": {
        "id": "1mOAThQiHzoQ"
      }
    },
    {
      "cell_type": "code",
      "source": [
        "new_person = Person(\"Swift\", \"Taylor\")\n",
        "p.mother = new_person\n",
        "print(p.mother)"
      ],
      "metadata": {
        "id": "NYbDOorpHymz",
        "colab": {
          "base_uri": "https://localhost:8080/"
        },
        "outputId": "d4791a42-4cf3-4519-f9a1-9dca382a922f"
      },
      "execution_count": 19,
      "outputs": [
        {
          "output_type": "stream",
          "name": "stdout",
          "text": [
            "Taylor Swift\n"
          ]
        }
      ]
    },
    {
      "cell_type": "markdown",
      "source": [
        "2.  Add some methods to your class.  Start by copying the `class` definition you already wrote.  Then, inside the `class` definition:\n",
        "\n",
        "  (a) Write a method called `unknownParent()` which returns `True` if any parent is 'unknown' and `False` otherwise.\n",
        "\n",
        "  (b) Write a method called `maternalGrandmother()` which returns the mother's mother.  If the mother is unknown, it should return 'unknown'.\n",
        "\n"
      ],
      "metadata": {
        "id": "1g1pcrmFHzGh"
      }
    },
    {
      "cell_type": "code",
      "source": [
        "class Person:\n",
        "  def __init__(self, lastName, firstName, mother =\"unknown\", father =\"unknown\"):\n",
        "    self.lastName = lastName\n",
        "    self.firstName = firstName\n",
        "    self.mother = mother\n",
        "    self.father = father\n",
        "\n",
        "  def __str__(self):\n",
        "    return f\"{self.firstName} {self.lastName}\"\n",
        "\n",
        "  def __repr__(self):\n",
        "    return f'Person(\"{self.lastName}\", \"{self.firstName}\", \"{self.mother}\", \"{self.father}\")'\n",
        "\n",
        "  def unknownParent(self):\n",
        "    \"\"\"\n",
        "    function that checks the mother and father variables of an object to see if they are defined\n",
        "    if either is not defined function returns true, if both are defined returns false\n",
        "    \"\"\"\n",
        "    if self.mother == \"unknown\":\n",
        "      return True\n",
        "    elif self.father == \"unknown\":\n",
        "      return True\n",
        "    else:\n",
        "      return False\n",
        "\n",
        "  def maternalGrandmother(self):\n",
        "    \"\"\"\n",
        "    function that returns the mother of the mother (maternal grandmother) of a person\n",
        "    if the mother of the person is unknonwn returns unknown\n",
        "    if the mother of the mother of the person is unknonw returns unknown\n",
        "    \"\"\"\n",
        "    if self.mother == \"unknown\":\n",
        "      return \"unknown\"\n",
        "    else:\n",
        "      return self.mother.mother"
      ],
      "metadata": {
        "id": "7mIxJGwwKTpv"
      },
      "execution_count": 21,
      "outputs": []
    },
    {
      "cell_type": "markdown",
      "source": [
        "Create enough `Person` objects to test whether your methods are working properly.  Show all your inputs and outputs.  It is up to you to demonstrate that you have thoroughly tested the code.  You may use additional code and/or text chunks if it helps."
      ],
      "metadata": {
        "id": "l9-4gxd8FxAQ"
      }
    },
    {
      "cell_type": "code",
      "source": [
        "#unknownParent() test one\n",
        "person_1 = Person(\"Antonoff\", \"Jack\")\n",
        "print(Person.unknownParent(person_1)) #tests to see if our person 1 has any unknown parents, should return True since no parents defined\n",
        "\n",
        "#unknownParent() test two\n",
        "person_2 = Person(\"Desner\", \"Aaron\")\n",
        "person_3 = Person(\"Haim\", \"Este\")\n",
        "person_4 = Person(\"Vernon\", \"Justin\", person_3, person_2) #initializes a person with 2 known parents\n",
        "print(Person.unknownParent(person_4)) #tests to see if person_4 has any unknown parents, should return false since both are passed in as args for person_4\n",
        "\n",
        "#maternalGrandmother() test one\n",
        "person_5 = Person(\"Suh\", \"Katya\")\n",
        "person_6 = Person(\"Johnson\", \"Zoe\", person_5) #creates person with mother Katya Suh\n",
        "person_7 = Person(\"Bui\", \"Summer\", person_6) #creates person with mother Zoe Johnson and thus Maternal Grandmother Katya Suh\n",
        "print(Person.maternalGrandmother(person_7)) #should print maternal grandmother of Summer Bui which should be Katya Suh\n",
        "\n",
        "#maternalGrandmother() test two\n",
        "print(Person.maternalGrandmother(person_5)) #should print unknown since no mother is defined for person_5, Katya Suh\n",
        "\n",
        "#maternalGrandmother() test three\n",
        "print(Person.maternalGrandmother(person_6)) #should also print unknown since the mother of the mother is not defined"
      ],
      "metadata": {
        "id": "gX1qpcKzFwoZ",
        "colab": {
          "base_uri": "https://localhost:8080/"
        },
        "outputId": "98ecc928-5aad-4400-c0e6-90439d4c3664"
      },
      "execution_count": 22,
      "outputs": [
        {
          "output_type": "stream",
          "name": "stdout",
          "text": [
            "True\n",
            "False\n",
            "Katya Suh\n",
            "unknown\n",
            "unknown\n"
          ]
        }
      ]
    }
  ]
}