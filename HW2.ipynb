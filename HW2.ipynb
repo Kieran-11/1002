{
  "nbformat": 4,
  "nbformat_minor": 0,
  "metadata": {
    "colab": {
      "provenance": [],
      "include_colab_link": true
    },
    "kernelspec": {
      "name": "python3",
      "display_name": "Python 3"
    },
    "language_info": {
      "name": "python"
    }
  },
  "cells": [
    {
      "cell_type": "markdown",
      "metadata": {
        "id": "view-in-github",
        "colab_type": "text"
      },
      "source": [
        "<a href=\"https://colab.research.google.com/github/Kieran-11/1002/blob/main/HW2.ipynb\" target=\"_parent\"><img src=\"https://colab.research.google.com/assets/colab-badge.svg\" alt=\"Open In Colab\"/></a>"
      ]
    },
    {
      "cell_type": "markdown",
      "source": [
        "## DS 1002 homework due Sunday Feb 4 at 10 pm\n"
      ],
      "metadata": {
        "id": "zAw2bmn-TjFJ"
      }
    },
    {
      "cell_type": "markdown",
      "source": [
        "\n",
        "The notebook from Wednesday's class is in my GitHib repository, including the little script we wrote at the end to find mangos in a list of fruit.  The file is called `MorePythonBasics.ipynb`.\n",
        "\n",
        "(By the way I wondered if the correct spelling was \"mangos\" or \"mangoes\" and I found [this](https://www.mango.org/blog-mangos-or-mangoes/)!  Who knew?  There's a National Mango Board!  And they're prepared to adjudicate this and other difficult mango-related questions.)\n",
        "\n",
        "\n"
      ],
      "metadata": {
        "id": "Cmf4xleCSWCu"
      }
    },
    {
      "cell_type": "markdown",
      "source": [
        "### Problem 1:  finding fruit\n",
        "\n",
        "Adapt the function we wrote in class so that it takes two arguments,\n",
        "\n",
        "`fruit` and `hungryfor` ,\n",
        "\n",
        "and then searches through the list `fruit` for the item `hungryfor`.  The line that calls the function should look like\n",
        "\n",
        "`find_fruit(food, hungryfor)`\n",
        "\n",
        "Make it print out the results in the same way, so for example if `food` is what we entered in class and `hungryfor = \"tomatoes\"` then the output will be\n",
        "\n",
        "```python\n",
        "No tomatoes here.\n",
        "No tomatoes here.\n",
        "No tomatoes here.\n",
        "No tomatoes here.\n",
        "No tomatoes here.\n",
        "```\n",
        "Test your code by changing the values of `food` and `hungryfor` and make sure the output is what you expect.  Show a few outputs, each in its own code chunk.\n",
        "\n"
      ],
      "metadata": {
        "id": "rJLyGryAThhp"
      }
    },
    {
      "cell_type": "code",
      "source": [
        "# put code here\n",
        "food = [\"apples\", \"oranges\", \"mangos\", \"bananas\", \"blueberries\"]\n",
        "hungryfor = \"grapes\"\n",
        "\n",
        "def find_fruit(fruit, hungryfor):\n",
        "  for fkjh in fruit:\n",
        "    if fkjh == hungryfor :\n",
        "      print(\"Hooray!  I found what I was hungry for.\")\n",
        "    else:\n",
        "      print(\"I didn't find what I was hungry for.\")\n",
        "\n",
        "\n"
      ],
      "metadata": {
        "id": "YXwLLFCt6H2f"
      },
      "execution_count": 14,
      "outputs": []
    },
    {
      "cell_type": "code",
      "source": [
        "# put your first function call here, and make more code chunks for additional function calls\n",
        "find_fruit(food, hungryfor)"
      ],
      "metadata": {
        "id": "bYdqsfrh6KnE",
        "outputId": "9f41483e-37fd-422c-e61a-6224caf3103d",
        "colab": {
          "base_uri": "https://localhost:8080/"
        }
      },
      "execution_count": 11,
      "outputs": [
        {
          "output_type": "stream",
          "name": "stdout",
          "text": [
            "I didn't find what I was hungry for.\n",
            "I didn't find what I was hungry for.\n",
            "I didn't find what I was hungry for.\n",
            "I didn't find what I was hungry for.\n",
            "Hooray!  I found what I was hungry for.\n"
          ]
        }
      ]
    },
    {
      "cell_type": "code",
      "source": [
        "find_fruit(food, hungryfor)"
      ],
      "metadata": {
        "id": "uWKD_4puFYTX",
        "outputId": "ce2b9521-96f0-4a55-fbc9-97af4fa2496d",
        "colab": {
          "base_uri": "https://localhost:8080/"
        }
      },
      "execution_count": 13,
      "outputs": [
        {
          "output_type": "stream",
          "name": "stdout",
          "text": [
            "I didn't find what I was hungry for.\n",
            "I didn't find what I was hungry for.\n",
            "Hooray!  I found what I was hungry for.\n",
            "I didn't find what I was hungry for.\n",
            "I didn't find what I was hungry for.\n"
          ]
        }
      ]
    },
    {
      "cell_type": "code",
      "source": [
        "find_fruit(food, hungryfor)"
      ],
      "metadata": {
        "id": "REUBrbwnFoTy",
        "outputId": "d3ccd7e3-b56f-4d20-a8e2-42c85cda902e",
        "colab": {
          "base_uri": "https://localhost:8080/"
        }
      },
      "execution_count": 15,
      "outputs": [
        {
          "output_type": "stream",
          "name": "stdout",
          "text": [
            "I didn't find what I was hungry for.\n",
            "I didn't find what I was hungry for.\n",
            "I didn't find what I was hungry for.\n",
            "I didn't find what I was hungry for.\n",
            "I didn't find what I was hungry for.\n"
          ]
        }
      ]
    },
    {
      "cell_type": "markdown",
      "source": [
        "#### Notes\n",
        "1. Once you have run a code chunk in the notebook, it will remember that it has been run.  You don't have to call the function in the same code chunk where the function is defined.  In other words, to call the function with new inputs you can simply make a new code chunk, change the inputs, and call the function.  *You don't have to retype the definition of the function each time.*\n",
        "\n",
        "2. Make sure you clean things up when you're done, so you don't include old code that doesn't work or old incorrect outputs.\n"
      ],
      "metadata": {
        "id": "AMp-a1ym6W7w"
      }
    },
    {
      "cell_type": "markdown",
      "source": [
        "### Problem 2:  the `input()` function\n",
        "\n",
        "(a) Programming gets way more fun when you start to interact with your own programs!  Here is a function that lets you start doing that.  Run the following code and see what happens:\n"
      ],
      "metadata": {
        "id": "R-s9cZ6GYWNX"
      }
    },
    {
      "cell_type": "code",
      "source": [
        "input()\n",
        "print(\"Hello there!\")"
      ],
      "metadata": {
        "id": "IEK8O2qNYkXn",
        "outputId": "6bbdc2e4-4567-406d-aa6d-b4dd584c948f",
        "colab": {
          "base_uri": "https://localhost:8080/"
        }
      },
      "execution_count": 17,
      "outputs": [
        {
          "output_type": "stream",
          "name": "stdout",
          "text": [
            "hi\n",
            "Hello there!\n"
          ]
        }
      ]
    },
    {
      "cell_type": "markdown",
      "source": [
        "(b) As you just saw, the code waits for you to enter something before it continues.  If you want to actually use the input in the code, you should assign its value to a variable:"
      ],
      "metadata": {
        "id": "sktZu8wWzFF6"
      }
    },
    {
      "cell_type": "code",
      "source": [
        "message = input()\n",
        "print(message)"
      ],
      "metadata": {
        "id": "fMmBkzbyz9Ty",
        "outputId": "bd1165f3-d514-4b49-8a38-861675bfc6a3",
        "colab": {
          "base_uri": "https://localhost:8080/"
        }
      },
      "execution_count": 18,
      "outputs": [
        {
          "output_type": "stream",
          "name": "stdout",
          "text": [
            "good morning\n",
            "good morning\n"
          ]
        }
      ]
    },
    {
      "cell_type": "markdown",
      "source": [
        "(c) Now you can start interacting.  Write some code that asks the user what they are hungry for (using a print statement), and then takes the user input, and then runs the `find_fruit` function from the previous code block using the user input as the `hungryfor` variable.  Test your code, and then include a few different outputs that demonstrate that the code works."
      ],
      "metadata": {
        "id": "ny41z-dQYmjQ"
      }
    },
    {
      "cell_type": "code",
      "source": [
        "# put code here\n",
        "print(\"What are you hungry for?\")"
      ],
      "metadata": {
        "id": "SKAVoAZ00xOx",
        "outputId": "c8bf3b88-49d8-42d2-e2b1-889123468139",
        "colab": {
          "base_uri": "https://localhost:8080/"
        }
      },
      "execution_count": 22,
      "outputs": [
        {
          "output_type": "stream",
          "name": "stdout",
          "text": [
            "What are you hungry for?\n"
          ]
        }
      ]
    },
    {
      "cell_type": "code",
      "source": [
        "# run it here, and add more code chunks for more runs\n",
        "hungryfor = input()\n",
        "find_fruit(food, hungryfor)"
      ],
      "metadata": {
        "id": "sQQVP1oa5dR7",
        "outputId": "7603bd7c-46fc-4797-98c1-0a70baa52c6e",
        "colab": {
          "base_uri": "https://localhost:8080/"
        }
      },
      "execution_count": 23,
      "outputs": [
        {
          "output_type": "stream",
          "name": "stdout",
          "text": [
            "bananas\n",
            "I didn't find what I was hungry for.\n",
            "I didn't find what I was hungry for.\n",
            "I didn't find what I was hungry for.\n",
            "Hooray!  I found what I was hungry for.\n",
            "I didn't find what I was hungry for.\n"
          ]
        }
      ]
    },
    {
      "cell_type": "code",
      "source": [
        "hungryfor = input()\n",
        "find_fruit(food, hungryfor)"
      ],
      "metadata": {
        "id": "q40NLP-TKGh7",
        "outputId": "b4ffb9d6-0563-4717-9692-fc8d9c9b9445",
        "colab": {
          "base_uri": "https://localhost:8080/"
        }
      },
      "execution_count": 24,
      "outputs": [
        {
          "output_type": "stream",
          "name": "stdout",
          "text": [
            "grapes\n",
            "I didn't find what I was hungry for.\n",
            "I didn't find what I was hungry for.\n",
            "I didn't find what I was hungry for.\n",
            "I didn't find what I was hungry for.\n",
            "I didn't find what I was hungry for.\n"
          ]
        }
      ]
    },
    {
      "cell_type": "code",
      "source": [
        "hungryfor = input()\n",
        "find_fruit(food, hungryfor)"
      ],
      "metadata": {
        "id": "C2-9YKkOKKZm",
        "outputId": "6782707a-1300-4f06-c9eb-4a323c46e573",
        "colab": {
          "base_uri": "https://localhost:8080/"
        }
      },
      "execution_count": 25,
      "outputs": [
        {
          "output_type": "stream",
          "name": "stdout",
          "text": [
            "blueberries\n",
            "I didn't find what I was hungry for.\n",
            "I didn't find what I was hungry for.\n",
            "I didn't find what I was hungry for.\n",
            "I didn't find what I was hungry for.\n",
            "Hooray!  I found what I was hungry for.\n"
          ]
        }
      ]
    },
    {
      "cell_type": "markdown",
      "source": [
        "### Problem 3:  ratings  \n",
        "Write a piece of code which prompts a user with the question \"What is your rating? (1-10)\" and then asks for user input.  Let's say the input is 3.  Once the input is received, print out a message that says.\n",
        "\n",
        "\"Your rating is *** .\"\n",
        "\n",
        "Obviously, your program should print the number of stars corresponding to the input!  If the input is 5, it should print\n",
        "\n",
        "\"Your rating is ***** .\"\n",
        "\n",
        "Show at least two outputs of your code."
      ],
      "metadata": {
        "id": "5CWOlHBz0xoZ"
      }
    },
    {
      "cell_type": "code",
      "source": [
        "# put code here\n",
        "print(\"What is your rating? (1-10)\")\n",
        "rating = input()\n",
        "int_rating = int(rating)\n",
        "star_rating  = \"*\"*int_rating\n",
        "print(\"Your rating is\", star_rating)"
      ],
      "metadata": {
        "id": "MCWnTAUW2Gin",
        "outputId": "4565c034-9eaa-4fd2-b593-a309684d010c",
        "colab": {
          "base_uri": "https://localhost:8080/"
        }
      },
      "execution_count": 29,
      "outputs": [
        {
          "output_type": "stream",
          "name": "stdout",
          "text": [
            "What is your rating? (1-10)\n",
            "6\n",
            "Your rating is ******\n"
          ]
        }
      ]
    },
    {
      "cell_type": "code",
      "source": [
        "# you might have to copy the code to show another output\n",
        "# (unless you figure out another way to do it)\n",
        "print(\"What is your rating? (1-10)\")\n",
        "rating = input()\n",
        "int_rating = int\\(rating)\n",
        "star_rating  = \"*\"*int_rating\n",
        "print(\"Your rating is\", star_rating)"
      ],
      "metadata": {
        "id": "nxm67oCk8Ukn",
        "outputId": "62878629-fb90-449a-fd0a-7defac0dc634",
        "colab": {
          "base_uri": "https://localhost:8080/"
        }
      },
      "execution_count": 32,
      "outputs": [
        {
          "output_type": "stream",
          "name": "stdout",
          "text": [
            "What is your rating? (1-10)\n",
            "2\n",
            "Your rating is **\n"
          ]
        }
      ]
    },
    {
      "cell_type": "markdown",
      "source": [
        "You do not have to do this as part of the assignment, but one thing to think about with any code that has **interactivity** is that you want to make it **robust**.  This means you should imagine someone is *trying* to break your code, and you should try to make it as indestructible as possible.\n",
        "\n",
        "What will happen to your code if someone enters 3.5?  Or -12?  Or \"nonsense\"?  Test it and see.  Think about how you might guard against errors.\n"
      ],
      "metadata": {
        "id": "VRfc9puT2yac"
      }
    }
  ]
}