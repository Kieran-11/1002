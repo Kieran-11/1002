{
  "nbformat": 4,
  "nbformat_minor": 0,
  "metadata": {
    "colab": {
      "provenance": [],
      "authorship_tag": "ABX9TyOQFeA0kS9PaOhsmZrTb5XM",
      "include_colab_link": true
    },
    "kernelspec": {
      "name": "python3",
      "display_name": "Python 3"
    },
    "language_info": {
      "name": "python"
    }
  },
  "cells": [
    {
      "cell_type": "markdown",
      "metadata": {
        "id": "view-in-github",
        "colab_type": "text"
      },
      "source": [
        "<a href=\"https://colab.research.google.com/github/Kieran-11/1002/blob/main/GuessingGame.ipynb\" target=\"_parent\"><img src=\"https://colab.research.google.com/assets/colab-badge.svg\" alt=\"Open In Colab\"/></a>"
      ]
    },
    {
      "cell_type": "markdown",
      "source": [
        "This assignment took me about 30 minutes"
      ],
      "metadata": {
        "id": "U1cD8Y9iSHbf"
      }
    },
    {
      "cell_type": "code",
      "execution_count": 75,
      "metadata": {
        "colab": {
          "base_uri": "https://localhost:8080/"
        },
        "id": "y1-sC9OpGAHu",
        "outputId": "6ac3d3a9-3812-4638-b599-ae4a2b261ed3"
      },
      "outputs": [
        {
          "output_type": "stream",
          "name": "stdout",
          "text": [
            "I'm thinking of a number between 0 and 100. Try to guess what it is!\n",
            "Please enter an integer between 0 and 100: 3.8\n",
            "That's not an integer. Please try again.\n",
            "Please enter an integer between 0 and 100: 91\n",
            "You entered: 91\n",
            "Guess again!\n"
          ]
        }
      ],
      "source": [
        "import random\n",
        "Answer = random.randint(0,100)\n",
        "print(\"I'm thinking of a number between 0 and 100. Try to guess what it is!\")\n",
        "while True:\n",
        "    try:\n",
        "        Guess = int(input(\"Please enter an integer between 0 and 100: \"))\n",
        "        break\n",
        "    except ValueError:\n",
        "        print(\"That's not an integer. Please try again.\")\n",
        "print(\"You entered:\", Guess)\n",
        "if Guess < 0 or Guess > 100:\n",
        "  print(\"Please guess a number between 0 and 100\")\n",
        "if Answer == Guess:\n",
        "  print(\"You got it!\")\n",
        "else:\n",
        "  print(\"Guess again!\")"
      ]
    }
  ]
}